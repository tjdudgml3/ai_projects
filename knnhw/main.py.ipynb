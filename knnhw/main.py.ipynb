{
 "cells": [
  {
   "cell_type": "code",
   "execution_count": 3,
   "metadata": {},
   "outputs": [
    {
     "ename": "ModuleNotFoundError",
     "evalue": "No module named 'knn'",
     "output_type": "error",
     "traceback": [
      "\u001b[1;31m---------------------------------------------------------------------------\u001b[0m",
      "\u001b[1;31mModuleNotFoundError\u001b[0m                       Traceback (most recent call last)",
      "\u001b[1;32m<ipython-input-3-3cc57d8cedb4>\u001b[0m in \u001b[0;36m<module>\u001b[1;34m\u001b[0m\n\u001b[1;32m----> 1\u001b[1;33m \u001b[1;32mfrom\u001b[0m \u001b[0mknn\u001b[0m\u001b[1;33m.\u001b[0m\u001b[0mpy\u001b[0m \u001b[1;32mimport\u001b[0m \u001b[1;33m*\u001b[0m\u001b[1;33m\u001b[0m\u001b[1;33m\u001b[0m\u001b[0m\n\u001b[0m\u001b[0;32m      2\u001b[0m \u001b[1;32mimport\u001b[0m \u001b[0mmatplotlib\u001b[0m\u001b[1;33m.\u001b[0m\u001b[0mpyplot\u001b[0m \u001b[1;32mas\u001b[0m \u001b[0mplt\u001b[0m\u001b[1;33m\u001b[0m\u001b[1;33m\u001b[0m\u001b[0m\n\u001b[0;32m      3\u001b[0m \u001b[1;32mfrom\u001b[0m \u001b[0msklearn\u001b[0m\u001b[1;33m.\u001b[0m\u001b[0mdatasets\u001b[0m \u001b[1;32mimport\u001b[0m \u001b[0mload_iris\u001b[0m\u001b[1;33m\u001b[0m\u001b[1;33m\u001b[0m\u001b[0m\n\u001b[0;32m      4\u001b[0m \u001b[1;32mimport\u001b[0m \u001b[0mnumpy\u001b[0m \u001b[1;32mas\u001b[0m \u001b[0mnp\u001b[0m\u001b[1;33m\u001b[0m\u001b[1;33m\u001b[0m\u001b[0m\n\u001b[0;32m      5\u001b[0m \u001b[1;33m\u001b[0m\u001b[0m\n",
      "\u001b[1;31mModuleNotFoundError\u001b[0m: No module named 'knn'"
     ]
    }
   ],
   "source": [
    "from knn import *\n",
    "import matplotlib.pyplot as plt\n",
    "from sklearn.datasets import load_iris\n",
    "import numpy as np\n",
    "\n",
    "iris = load_iris()\n",
    "print(iris)\n",
    "X = iris.data[:, :4] # for now, use the first two features.\n",
    "y = iris.target\n",
    "x1_min, x1_max = X[:, 2].min() - .5, X[:, 2].max() + .5\n",
    "x2_min, x2_max = X[:, 3].min() - .5, X[:, 3].max() + .5\n",
    "plt.figure(figsize=(8, 6))\n",
    "# Plot the training points\n",
    "plt.scatter(X[:, 2], X[:, 3], c=y, cmap=plt.cm.Set1,\n",
    " edgecolor='k')\n",
    "plt.xlabel('Sepal length')\n",
    "plt.ylabel('Sepal width')\n",
    "plt.xlim(x1_min, x1_max)\n",
    "plt.ylim(x2_min, x2_max)\n",
    "plt.show()"
   ]
  },
  {
   "cell_type": "code",
   "execution_count": 4,
   "metadata": {},
   "outputs": [
    {
     "data": {
      "text/plain": [
       "array([0, 0, 0, 0, 0, 0, 0, 0, 0, 0, 0, 0, 0, 0, 0, 0, 0, 0, 0, 0, 0, 0,\n",
       "       0, 0, 0, 0, 0, 0, 0, 0, 0, 0, 0, 0, 0, 0, 0, 0, 0, 0, 0, 0, 0, 0,\n",
       "       0, 0, 0, 0, 0, 0, 1, 1, 1, 1, 1, 1, 1, 1, 1, 1, 1, 1, 1, 1, 1, 1,\n",
       "       1, 1, 1, 1, 1, 1, 1, 1, 1, 1, 1, 1, 1, 1, 1, 1, 1, 1, 1, 1, 1, 1,\n",
       "       1, 1, 1, 1, 1, 1, 1, 1, 1, 1, 1, 1, 2, 2, 2, 2, 2, 2, 2, 2, 2, 2,\n",
       "       2, 2, 2, 2, 2, 2, 2, 2, 2, 2, 2, 2, 2, 2, 2, 2, 2, 2, 2, 2, 2, 2,\n",
       "       2, 2, 2, 2, 2, 2, 2, 2, 2, 2, 2, 2, 2, 2, 2, 2, 2, 2])"
      ]
     },
     "execution_count": 4,
     "metadata": {},
     "output_type": "execute_result"
    }
   ],
   "source": [
    "iris.target"
   ]
  },
  {
   "cell_type": "code",
   "execution_count": 5,
   "metadata": {},
   "outputs": [],
   "source": [
    "train_data = []\n",
    "train_target = []\n",
    "test_data = []\n",
    "test_target = []\n",
    "i = 0\n",
    "for i in range(len(iris.data)):\n",
    "    if i%15 == 0:\n",
    "        test_data.append(iris.data[i])\n",
    "        test_target.append(iris.target[i])\n",
    "    else:\n",
    "        train_data.append(iris.data[i])\n",
    "        train_target.append(iris.target[i])"
   ]
  },
  {
   "cell_type": "code",
   "execution_count": 6,
   "metadata": {},
   "outputs": [
    {
     "data": {
      "text/plain": [
       "[array([5.1, 3.5, 1.4, 0.2]),\n",
       " array([5.7, 4.4, 1.5, 0.4]),\n",
       " array([4.8, 3.1, 1.6, 0.2]),\n",
       " array([4.8, 3. , 1.4, 0.3]),\n",
       " array([5. , 2. , 3.5, 1. ]),\n",
       " array([6.6, 3. , 4.4, 1.4]),\n",
       " array([5.5, 2.6, 4.4, 1.2]),\n",
       " array([7.6, 3. , 6.6, 2.1]),\n",
       " array([6.9, 3.2, 5.7, 2.3]),\n",
       " array([7.7, 3. , 6.1, 2.3])]"
      ]
     },
     "execution_count": 6,
     "metadata": {},
     "output_type": "execute_result"
    }
   ],
   "source": [
    "test_data\n",
    "    \n"
   ]
  },
  {
   "cell_type": "code",
   "execution_count": 7,
   "metadata": {},
   "outputs": [
    {
     "name": "stdout",
     "output_type": "stream",
     "text": [
      "asdasdasd\n",
      "0.2\n",
      "3\n"
     ]
    }
   ],
   "source": [
    "def KNN1(data1,k):\n",
    "    #for data in data1:\n",
    "        #x_1 = data[0]\n",
    "        #print(np.square(x_1))\n",
    "        #for a in train_data:\n",
    "        #    print(min(a))\n",
    "            #print(f\"{np.root(np.square(x_1 -a[0]))}asdasd\")\n",
    "            #distance.append(np.roots(np.square(x_1 - a[0])+np.square(x_2 - a[1])))\n",
    "        \n",
    "        print(\"asdasdasd\")\n",
    "        print(min(data1[0]))\n",
    "        #for a in train_data:\n",
    "            #print(round(x_1-a[0],1))\n",
    "        print(k)\n",
    "    #print(f\"{data}\\n\")\n",
    "KNN1(test_data,3)"
   ]
  },
  {
   "cell_type": "code",
   "execution_count": 8,
   "metadata": {},
   "outputs": [],
   "source": [
    "def KNN(data1, k):\n",
    "    target = []\n",
    "    \n",
    "    for data in data1:\n",
    "        x_1 = data[0]\n",
    "        x_2 = data[1]\n",
    "        find_label = []\n",
    "        distance = []\n",
    "        tar = []\n",
    "        train_data1 = train_data.copy()\n",
    "        train_target1 = train_target.copy()\n",
    "        for a in train_data1:\n",
    "            distance.append(np.sqrt(np.square(x_1 - a[0])+np.square(x_2 - a[1])))\n",
    "        for a in range(k):\n",
    "            distance_min = min(distance)\n",
    "            for b in range(len(distance)):\n",
    "                if distance_min == distance[b]:\n",
    "                    del distance[b]\n",
    "                    find_label.append(train_target1[b])\n",
    "                    del train_target1[b]\n",
    "                    del train_data1[b]\n",
    "                    break\n",
    "        c =[]\n",
    "        for a in range(len(find_label)):\n",
    "            c.append(find_label.count(find_label[a]))\n",
    "            \n",
    "        c_max = max(c)\n",
    "        for i in range(len(c)):\n",
    "            if c[i] == c_max:\n",
    "                target.append(find_label[i])\n",
    "                break\n",
    "    return target\n",
    "        \n",
    "       "
   ]
  },
  {
   "cell_type": "code",
   "execution_count": 23,
   "metadata": {},
   "outputs": [
    {
     "name": "stdout",
     "output_type": "stream",
     "text": [
      "[0, 0, 0, 0, 1, 1, 1, 2, 2, 2]\n",
      "[array([5.1, 3.5, 1.4, 0.2]), array([5.7, 4.4, 1.5, 0.4]), array([4.8, 3.1, 1.6, 0.2]), array([4.8, 3. , 1.4, 0.3]), array([5. , 2. , 3.5, 1. ]), array([6.6, 3. , 4.4, 1.4]), array([5.5, 2.6, 4.4, 1.2]), array([7.6, 3. , 6.6, 2.1]), array([6.9, 3.2, 5.7, 2.3]), array([7.7, 3. , 6.1, 2.3])]\n"
     ]
    },
    {
     "ename": "NameError",
     "evalue": "name 'knn' is not defined",
     "output_type": "error",
     "traceback": [
      "\u001b[1;31m---------------------------------------------------------------------------\u001b[0m",
      "\u001b[1;31mNameError\u001b[0m                                 Traceback (most recent call last)",
      "\u001b[1;32m<ipython-input-23-aa0a07e39ce1>\u001b[0m in \u001b[0;36m<module>\u001b[1;34m\u001b[0m\n\u001b[0;32m      1\u001b[0m \u001b[0mprint\u001b[0m\u001b[1;33m(\u001b[0m\u001b[0mtest_target\u001b[0m\u001b[1;33m)\u001b[0m\u001b[1;33m\u001b[0m\u001b[1;33m\u001b[0m\u001b[0m\n\u001b[0;32m      2\u001b[0m \u001b[0mprint\u001b[0m\u001b[1;33m(\u001b[0m\u001b[0mtest_data\u001b[0m\u001b[1;33m)\u001b[0m\u001b[1;33m\u001b[0m\u001b[1;33m\u001b[0m\u001b[0m\n\u001b[1;32m----> 3\u001b[1;33m \u001b[0ma\u001b[0m \u001b[1;33m=\u001b[0m \u001b[0mknn\u001b[0m\u001b[1;33m(\u001b[0m\u001b[1;33m)\u001b[0m\u001b[1;33m\u001b[0m\u001b[1;33m\u001b[0m\u001b[0m\n\u001b[0m\u001b[0;32m      4\u001b[0m \u001b[1;32mfor\u001b[0m \u001b[0mi\u001b[0m \u001b[1;32min\u001b[0m \u001b[0mrange\u001b[0m\u001b[1;33m(\u001b[0m\u001b[1;36m10\u001b[0m\u001b[1;33m)\u001b[0m\u001b[1;33m:\u001b[0m\u001b[1;33m\u001b[0m\u001b[1;33m\u001b[0m\u001b[0m\n\u001b[0;32m      5\u001b[0m     \u001b[0mprint\u001b[0m\u001b[1;33m(\u001b[0m\u001b[0ma\u001b[0m\u001b[1;33m.\u001b[0m\u001b[0mKNN_obtain\u001b[0m\u001b[1;33m(\u001b[0m\u001b[0mtest_data\u001b[0m\u001b[1;33m,\u001b[0m\u001b[0mi\u001b[0m\u001b[1;33m+\u001b[0m\u001b[1;36m1\u001b[0m\u001b[1;33m,\u001b[0m\u001b[0mtrain_data\u001b[0m\u001b[1;33m,\u001b[0m\u001b[0mtrain_target\u001b[0m\u001b[1;33m)\u001b[0m\u001b[1;33m)\u001b[0m\u001b[1;33m\u001b[0m\u001b[1;33m\u001b[0m\u001b[0m\n",
      "\u001b[1;31mNameError\u001b[0m: name 'knn' is not defined"
     ]
    }
   ],
   "source": [
    "print(test_target)\n",
    "print(test_data)\n",
    "a = knn()\n",
    "for i in range(10):\n",
    "    print(a.KNN_obtain(test_data,i+1,train_data,train_target))\n",
    "\n"
   ]
  },
  {
   "cell_type": "code",
   "execution_count": null,
   "metadata": {},
   "outputs": [],
   "source": []
  }
 ],
 "metadata": {
  "kernelspec": {
   "display_name": "Python 3",
   "language": "python",
   "name": "python3"
  },
  "language_info": {
   "codemirror_mode": {
    "name": "ipython",
    "version": 3
   },
   "file_extension": ".py",
   "mimetype": "text/x-python",
   "name": "python",
   "nbconvert_exporter": "python",
   "pygments_lexer": "ipython3",
   "version": "3.8.3"
  }
 },
 "nbformat": 4,
 "nbformat_minor": 4
}
