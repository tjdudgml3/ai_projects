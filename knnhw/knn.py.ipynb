{
 "cells": [
  {
   "cell_type": "code",
   "execution_count": 1,
   "metadata": {},
   "outputs": [],
   "source": [
    "import numpy as np"
   ]
  },
  {
   "cell_type": "code",
   "execution_count": 9,
   "metadata": {},
   "outputs": [],
   "source": [
    "class knn:\n",
    "    def __init__(self):\n",
    "        self.target = []\n",
    "        \n",
    "    def KNN_obtain(self,data1,k,train_data,train_target):\n",
    "        for data in data1:\n",
    "            x_1 = data[0]\n",
    "            x_2 = data[1]\n",
    "            find_label = []\n",
    "            distance = []\n",
    "            tar = []\n",
    "            train_data1 = train_data.copy()\n",
    "            train_target1 = train_target.copy()\n",
    "            for a in train_data1:\n",
    "                distance.append(np.sqrt(np.square(x_1-a[0])+np.square(x_2 - a[1])))\n",
    "            for a in range(k):\n",
    "                distance_min = min(distance)\n",
    "                for b in range(len(distance)):\n",
    "                    if distance_min == distance[b]:\n",
    "                        del distance[b]\n",
    "                        find_label.append(train_target1[b])\n",
    "                        del train_target1[b]\n",
    "                        del train_data1[b]\n",
    "                        break\n",
    "            c =[]\n",
    "            for a in range(len(find_label)):\n",
    "                c.append(find_label.count(find_label[a]))\n",
    "                \n",
    "            c_max = max(c)\n",
    "            for i in range(len(c)):\n",
    "                if c[i] == c_max:\n",
    "                    self.target.append(find_label[i])\n",
    "                    break\n",
    "        return self.target\n",
    "        \n",
    "    \n",
    "    "
   ]
  },
  {
   "cell_type": "code",
   "execution_count": null,
   "metadata": {},
   "outputs": [],
   "source": []
  }
 ],
 "metadata": {
  "kernelspec": {
   "display_name": "Python 3",
   "language": "python",
   "name": "python3"
  },
  "language_info": {
   "codemirror_mode": {
    "name": "ipython",
    "version": 3
   },
   "file_extension": ".py",
   "mimetype": "text/x-python",
   "name": "python",
   "nbconvert_exporter": "python",
   "pygments_lexer": "ipython3",
   "version": "3.8.3"
  }
 },
 "nbformat": 4,
 "nbformat_minor": 4
}
