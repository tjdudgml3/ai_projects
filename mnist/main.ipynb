{
 "cells": [
  {
   "cell_type": "code",
   "execution_count": 22,
   "metadata": {},
   "outputs": [],
   "source": [
    "import sys, os\n",
    "sys.path.append(os.pardir)\n",
    "# 부모 디렉토리에서 import할 수 있도록 설정\n",
    "import numpy as np\n",
    "from dataset.mnist import load_mnist\n",
    "# mnist data load할 수 있는 함수 import\n",
    "from PIL import Image\n",
    "import matplotlib.pyplot as plt"
   ]
  },
  {
   "cell_type": "code",
   "execution_count": 23,
   "metadata": {},
   "outputs": [
    {
     "name": "stdout",
     "output_type": "stream",
     "text": [
      "5\n",
      "(1, 28, 28)\n"
     ]
    }
   ],
   "source": [
    "(x_train, t_train), (x_test, t_test) = load_mnist(flatten=False, normalize=False)\n",
    "# training data, test data\n",
    "# flatten: 이미지를 1차원 배열로 읽음\n",
    "# normalize: 0~1 실수로. 그렇지 않으면 0~255\n",
    "image = x_train[0]\n",
    "label = t_train[0]\n",
    "# 첫번째 데이터\n",
    "print(label)\n",
    "print(image.shape)\n"
   ]
  },
  {
   "cell_type": "code",
   "execution_count": 24,
   "metadata": {},
   "outputs": [],
   "source": [
    "def img_show(img):\n",
    "    pil_img = Image.fromarray(np.uint8(img))\n",
    "    pil_img.show()\n",
    "# image를 unsigned int로\n",
    "image = image.reshape(28,28)\n",
    "# 1차원 —> 2차원 (28x28)\n",
    "#print(image.shape)\n",
    "#img_show(image)"
   ]
  },
  {
   "cell_type": "code",
   "execution_count": 25,
   "metadata": {},
   "outputs": [
    {
     "data": {
      "image/png": "[encoded data removed]",
      "text/plain": [
       "<Figure size 432x288 with 1 Axes>"
      ]
     },
     "metadata": {
      "needs_background": "light"
     },
     "output_type": "display_data"
    }
   ],
   "source": [
    "image = x_train[6640]\n",
    "image = image.reshape(28,28)\n",
    "plt.imshow(image,cmap ='Greys')\n",
    "plt.show()"
   ]
  },
  {
   "cell_type": "code",
   "execution_count": 26,
   "metadata": {},
   "outputs": [],
   "source": [
    "class knn:# KNN 클래스 구현부\n",
    "    def __init__(self):\n",
    "        self.target = []\n",
    "\n",
    "    \n",
    "    def KNN_weighted2(self,data1,k,train_data,train_target): #784개 feature를 1차원 배열로  reshape한 뒤에 knn 알고리즘을 쓰는함수\n",
    "        weighted_target = []\n",
    "        \n",
    "        for data in data1: #받아오는 데이터 배열안의 데이터 하나를 먼저 계산\n",
    "    \n",
    "            distance = [] #각 트레인데이터와의 거리를 저장\n",
    "            train_data1 = train_data.copy() #받아온 트레인데이타 카피하기(받아온 데이터 손상시키지않기위해)\n",
    "            train_target1 = train_target.copy() #받아온 트레인타겟 카피하기(받아온 데이터 손상시키지않기위해)\n",
    "            distance_total =np.zeros(9) # 각각의 label 즉 distance_total[0] 은 k범주 안에 있는 0의 갯수를 저장\n",
    "            distance_mnist = 0 #테스트데이터와 트레인데이터의 거리를 구하기 위한 변수, feature의 거리차의 제곱을 저장한다.\n",
    "            distance_raw = [] #두테이터의 차를 저장하는 리스트\n",
    "            data1 = data.reshape(784) #디멘션을 1로 낮춘다. 즉 784개의 feature를 다 쓰기위함\n",
    "            data = [] #계단 함수를 쓰기위한 리스트\n",
    "            for a in range(len(data1)):  #계단함수\n",
    "                if data1[a] > 0:\n",
    "                    data.append(255)\n",
    "                else:\n",
    "                    data.append(data1[a])\n",
    "\n",
    "                    \n",
    "            for train_element in train_data1: #각각의 트레인데이터와 테스트데이터 거리비교\n",
    "                train_element = train_element.reshape(784)\n",
    "                \n",
    "                \n",
    "                for a in range(784): \n",
    "                    if train_element[a]>= data[a] :\n",
    "                        distance_raw.append(train_element[a]-data[a])#차를 저장\n",
    "                    if data[a] > train_element[a]:\n",
    "                        distance_raw.append(data[a]-train_element[a])\n",
    "                        \n",
    "                for a in distance_raw:\n",
    "                    distance_mnist = distance_mnist + np.square(a) # distance_raw에 저장돼있는 차를 제곱해서 다 더해줌\n",
    "                \n",
    "                distance.append(np.sqrt(distance_mnist)) #이 트레인데이터와의 유클리드 거리를 distance에 ㅈ저장\n",
    "                distance_mnist = 0\n",
    "                \n",
    "                distance_raw = [] #리스트 초기화\n",
    "                \n",
    "            for a in range(k): #들어온 데이터와 가장 가까운 k개만큼 찾는loop\n",
    "                distance_min = min(distance) #거리중에서 가장 작은 거리 찾기\n",
    "                for b in range(len(distance)): #그 가장 작은 거리에있는 인덱스값(위치)찾기\n",
    "                    if distance[b] == distance_min:\n",
    "                        del distance[b] \n",
    "                        distance_weight = 1/(1+np.square(distance_min)) #거리에 가중치를 줌\n",
    "                        for i in range(len(distance_total)): #레이벨별로 저장하는 loop 만약 가장 거리가 짧은 데이터의 label이 0이면 distance_total[0]에 저장\n",
    "                            if train_target1[b] == i: \n",
    "                                distance_total[i] = distance_total[i] + distance_weight\n",
    "                        train_target1 = np.delete(train_target1,b)\n",
    "                        train_data1 = np.delete(train_data1,b)\n",
    "                        break\n",
    "            b = max(distance_total)\n",
    "            for i in range(len(distance_total)):\n",
    "                if distance_total[i] == b:\n",
    "                    self.target.append(i) # 이 데이터에 대해서 k개중에 가장 많은 label을 저장\n",
    "                    break\n",
    "\n",
    "            \n",
    "        weighted_target = self.target.copy()\n",
    "        self.target.clear()\n",
    "        return weighted_target\n",
    "    \n",
    "    def KNN_weighted3(self,data1,k,train_data,train_target): #raw 28개의 각각의 행의 합과 column 각각의 열의 합을 이용해서 knn을 구현\n",
    "        weighted_target = []\n",
    "        \n",
    "        for data in data1:\n",
    "            distance = []\n",
    "            train_data1 = train_data.copy()\n",
    "            train_target1 = train_target.copy() \n",
    "            distance_total =[0,0,0,0,0,0,0,0,0,0]\n",
    "            distance_mnist = 0\n",
    "            distance_raw = []\n",
    "            data = data.reshape(28,28)\n",
    "            #data =[]\n",
    "            #for a in data1:\n",
    "            #    for b in range(len(a)):\n",
    "            #        if a[b] > 0:\n",
    "            #            data2.append(255)\n",
    "            #        else:\n",
    "            #            data2.append(0)\n",
    "            #    data.append(data2)\n",
    "            #    data2 = []\n",
    "            #print(data)\n",
    "            #data = np.asarray(data)\n",
    "            #print(data)\n",
    "            raw_data1 =[] #데이터의 행의합을 저장시킬 리스트\n",
    "            column_data1 = [] #열의 합을 저장시킬 리스트(테스트데이터 한개의)\n",
    "            for data2 in data:\n",
    "                raw_data1.append(sum(data2)) #행의합 저장\n",
    "\n",
    "            for j in range(28):\n",
    "                column_data1.append(sum(data[:,j])) #열의합 저장\n",
    "            for train_element in train_data1:\n",
    "                train_element = train_element.reshape(28,28) #28,28로 nparray로 reshape\n",
    "                \n",
    "                raw_train = [] #트레인데이터의 행의합 저장리스트\n",
    "                column_train = []#열\n",
    "                distance56 = [] # 테스트데이터의 행의합과 트레인의 행의합을 각각빼주고 제곱의 합을 저장하는 리스트 열도마찬가지.(0~25행의합 26~57 열의합의 차이)\n",
    "                \n",
    "                for train in train_element:\n",
    "                    raw_train.append(sum(train))\n",
    "                    \n",
    "                for i in range(28):\n",
    "                    column_train.append(sum(train_element[:,i]))\n",
    "                    \n",
    "                for a,b in zip(raw_data1,raw_train):\n",
    "                    if a >= b:\n",
    "                        distance56.append(np.square(a-b)) #데이터의 행의 합의 차의 제곱을 저장\n",
    "                    if b > a:\n",
    "                        distance56.append(np.square(b-a))\n",
    "                for a,b in zip(column_data1,column_train):\n",
    "                    if a >= b:\n",
    "                        distance56.append(np.square(a-b)) #열의 합의 차의 제곱을 저장\n",
    "                    if b > a:\n",
    "                        distance56.append(np.square(b-a))\n",
    "                   \n",
    "                distance.append(np.sqrt(sum(distance56)))\n",
    "                \n",
    "            for a in range(k):\n",
    "                distance_min = min(distance)\n",
    "                for b in range(len(distance)):\n",
    "                    if distance[b] == distance_min:\n",
    "                        del distance[b]\n",
    "                        distance_weight = 1/(1+np.square(distance_min)) #거리에 가중치를 줌\n",
    "                        for i in range(len(distance_total)):\n",
    "                            if train_target1[b] == i:\n",
    "                                distance_total[i] = distance_total[i] + distance_weight\n",
    "                        train_target1 = np.delete(train_target1,b)\n",
    "                        train_data1 = np.delete(train_data1,b)\n",
    "                        break\n",
    "            b = max(distance_total)\n",
    "            for i in range(len(distance_total)):\n",
    "                if distance_total[i] == b:\n",
    "                    self.target.append(i)\n",
    "                    break\n",
    "\n",
    "            \n",
    "        weighted_target = self.target.copy()\n",
    "        self.target.clear()\n",
    "        return weighted_target"
   ]
  },
  {
   "cell_type": "code",
   "execution_count": null,
   "metadata": {},
   "outputs": [],
   "source": []
  },
  {
   "cell_type": "code",
   "execution_count": null,
   "metadata": {},
   "outputs": [],
   "source": []
  },
  {
   "cell_type": "code",
   "execution_count": null,
   "metadata": {},
   "outputs": [],
   "source": []
  },
  {
   "cell_type": "code",
   "execution_count": 27,
   "metadata": {},
   "outputs": [],
   "source": [
    "sample = np.random.randint(0,t_test.shape[0],10) #테스트해볼 몇개의 index값을 랜덤으로 추출\n",
    "arr_data = []\n",
    "arr_target = []\n",
    "for a in sample: #index의 data와 target을 고름\n",
    "    arr_data.append(x_test[a])\n",
    "    arr_target.append(t_test[a])\n",
    "    "
   ]
  },
  {
   "cell_type": "code",
   "execution_count": null,
   "metadata": {},
   "outputs": [],
   "source": []
  },
  {
   "cell_type": "code",
   "execution_count": null,
   "metadata": {},
   "outputs": [],
   "source": []
  },
  {
   "cell_type": "code",
   "execution_count": 28,
   "metadata": {},
   "outputs": [
    {
     "name": "stdout",
     "output_type": "stream",
     "text": [
      "2831 th data = 6   label = 6\n",
      "\n",
      "6570 th data = 1   label = 3\n",
      "\n",
      "8005 th data = 1   label = 1\n",
      "\n",
      "5088 th data = 6   label = 6\n",
      "\n",
      "6064 th data = 2   label = 2\n",
      "\n",
      "8573 th data = 7   label = 7\n",
      "\n",
      "3215 th data = 0   label = 0\n",
      "\n",
      "2993 th data = 1   label = 7\n",
      "\n",
      "3939 th data = 6   label = 6\n",
      "\n",
      "8415 th data = 5   label = 5\n",
      "\n",
      "accuracy = 80.0%\n",
      "2831 th data = 6   label = 6\n",
      "\n",
      "6570 th data = 3   label = 3\n",
      "\n",
      "8005 th data = 1   label = 1\n",
      "\n",
      "5088 th data = 0   label = 6\n",
      "\n",
      "6064 th data = 2   label = 2\n",
      "\n",
      "8573 th data = 7   label = 7\n",
      "\n",
      "3215 th data = 0   label = 0\n",
      "\n",
      "2993 th data = 8   label = 7\n",
      "\n",
      "3939 th data = 6   label = 6\n",
      "\n",
      "8415 th data = 0   label = 5\n",
      "\n",
      "accuracy = 70.0%\n"
     ]
    }
   ],
   "source": [
    "model = knn() #모델은 knn\n",
    "x_train = x_train[0:5000]\n",
    "t_train = t_train[0:5000]\n",
    "\n",
    "pridicted = model.KNN_weighted3(arr_data,10,x_train,t_train) #행의합,열의합으로 이루어진 데이터를 이용 56개사용. 실행시간이 빠르고 정확도도 높음.\n",
    "for a in range(len(sample)):\n",
    "    print(f\"{sample[a]} th data = {pridicted[a]}   label = {arr_target[a]}\\n\" )\n",
    "count = 0\n",
    "for a,b in zip(pridicted,arr_target):\n",
    "    if a == b:\n",
    "        count = count+1\n",
    "print(f\"accuracy = {count/len(sample)*100 }%\")\n",
    "\n",
    "pridicted = model.KNN_weighted2(arr_data,10,x_train,t_train)#실행시간이 매우길다. 784개의 feature를 모두 사용하는 함수.\n",
    "for a in range(len(sample)):\n",
    "    print(f\"{sample[a]} th data = {pridicted[a]}   label = {arr_target[a]}\\n\" )\n",
    "count = 0\n",
    "for a,b in zip(pridicted,arr_target):\n",
    "    if a == b:\n",
    "        count = count+1\n",
    "print(f\"accuracy = {count/len(sample)*100 }%\")"
   ]
  },
  {
   "cell_type": "code",
   "execution_count": 10,
   "metadata": {},
   "outputs": [
    {
     "name": "stdout",
     "output_type": "stream",
     "text": [
      "[5 5 5 5 5 5 5 5 5 5]\n"
     ]
    }
   ],
   "source": []
  },
  {
   "cell_type": "code",
   "execution_count": null,
   "metadata": {},
   "outputs": [],
   "source": []
  }
 ],
 "metadata": {
  "kernelspec": {
   "display_name": "Python 3.9.12 ('base')",
   "language": "python",
   "name": "python3"
  },
  "language_info": {
   "codemirror_mode": {
    "name": "ipython",
    "version": 3
   },
   "file_extension": ".py",
   "mimetype": "text/x-python",
   "name": "python",
   "nbconvert_exporter": "python",
   "pygments_lexer": "ipython3",
   "version": "3.9.12"
  },
  "vscode": {
   "interpreter": {
    "hash": "d7288e82646d3164eca24130947288f8779d11454649f2c02a5dfc42af7f324c"
   }
  }
 },
 "nbformat": 4,
 "nbformat_minor": 4
}
